{
 "cells": [
  {
   "cell_type": "code",
   "execution_count": 1,
   "id": "cd9a369c-e1a6-46a5-976a-859e17f30afc",
   "metadata": {},
   "outputs": [],
   "source": [
    "import pandas as pd\n",
    "import numpy as np\n",
    "import os\n",
    "from sklearn.model_selection import train_test_split\n",
    "from sklearn.preprocessing import StandardScaler,MinMaxScaler\n",
    "from sklearn.preprocessing import LabelEncoder\n",
    "import matplotlib.pyplot as plt\n",
    "import seaborn as sns"
   ]
  },
  {
   "cell_type": "code",
   "execution_count": 3,
   "id": "8dad7716-61a8-4914-9ba8-db9a0c1f5706",
   "metadata": {},
   "outputs": [
    {
     "name": "stdout",
     "output_type": "stream",
     "text": [
      "C:\\Users\\HP\n"
     ]
    }
   ],
   "source": [
    "print(os.getcwd())"
   ]
  },
  {
   "cell_type": "code",
   "execution_count": 2,
   "id": "902ad728-8d9e-43d7-9fe6-18116ac8393b",
   "metadata": {},
   "outputs": [],
   "source": [
    "DATASET_DIR=\"C:\\\\Users\\\\HP\\\\Downloads\\\\archive (1)\""
   ]
  },
  {
   "cell_type": "code",
   "execution_count": 3,
   "id": "19fb7cfd-3811-45ab-8ef5-682681f4a8dc",
   "metadata": {},
   "outputs": [],
   "source": [
    "parquet_files=['Infiltration-Thursday-no-metadata.parquet','Portscan-Friday-no-metadata.parquet','WebAttacks-Thursday-no-metadata.parquet','DoS-Wednesday-no-metadata.parquet','DDoS-Friday-no-metadata.parquet','Bruteforce-Tuesday-no-metadata.parquet','Benign-Monday-no-metadata.parquet','Benign-Monday-no-metadata.parquet']"
   ]
  },
  {
   "cell_type": "code",
   "execution_count": 4,
   "id": "94678787-8248-404c-90c9-8c885dacf051",
   "metadata": {},
   "outputs": [],
   "source": [
    "OUTPUT_DIR='processed_data'"
   ]
  },
  {
   "cell_type": "code",
   "execution_count": 5,
   "id": "b0755d78-8248-4e75-a419-1f98e7092ef6",
   "metadata": {},
   "outputs": [],
   "source": [
    "os.makedirs(OUTPUT_DIR,exist_ok=True)"
   ]
  },
  {
   "cell_type": "code",
   "execution_count": 6,
   "id": "dfad2dd7-9998-463b-9a0a-504466a665c8",
   "metadata": {},
   "outputs": [
    {
     "name": "stdout",
     "output_type": "stream",
     "text": [
      "---Starting Data Loading from Parquet files---\n"
     ]
    }
   ],
   "source": [
    "print(\"---Starting Data Loading from Parquet files---\")"
   ]
  },
  {
   "cell_type": "code",
   "execution_count": 7,
   "id": "8b1deb3d-8152-4922-97f4-9c3db5b24730",
   "metadata": {},
   "outputs": [],
   "source": [
    "all_dfs=[]"
   ]
  },
  {
   "cell_type": "code",
   "execution_count": 8,
   "id": "9b6296f6-1307-44b4-8d26-370eba0e575a",
   "metadata": {},
   "outputs": [
    {
     "name": "stdout",
     "output_type": "stream",
     "text": [
      "Loading Infiltration-Thursday-no-metadata.parquet....\n",
      "Loaded 207630 rows.\n",
      "Loading Portscan-Friday-no-metadata.parquet....\n",
      "Loaded 119522 rows.\n",
      "Loading WebAttacks-Thursday-no-metadata.parquet....\n",
      "Loaded 155820 rows.\n",
      "Loading DoS-Wednesday-no-metadata.parquet....\n",
      "Loaded 584991 rows.\n",
      "Loading DDoS-Friday-no-metadata.parquet....\n",
      "Loaded 221264 rows.\n",
      "Loading Bruteforce-Tuesday-no-metadata.parquet....\n",
      "Loaded 389714 rows.\n",
      "Loading Benign-Monday-no-metadata.parquet....\n",
      "Loaded 458831 rows.\n",
      "Loading Benign-Monday-no-metadata.parquet....\n",
      "Loaded 458831 rows.\n",
      "\n",
      "---Data Loading Complete---\n",
      "All datasets combined.Total rows:2596603,Total columns:78\n"
     ]
    }
   ],
   "source": [
    "for file_name in parquet_files:\n",
    "    file_path=os.path.join(DATASET_DIR,file_name)\n",
    "    if os.path.exists(file_path):\n",
    "        print(f'Loading {file_name}....')\n",
    "        try:\n",
    "            df_temp=pd.read_parquet(file_path)\n",
    "            all_dfs.append(df_temp)\n",
    "            print(f'Loaded {len(df_temp)} rows.')\n",
    "        except Exception as e:\n",
    "            print(f'Error loading {file_name}:{e}')\n",
    "            print(f' Skipping {file_name}.')\n",
    "    else:\n",
    "        print(f'WARNING:File not found - {file_path}. Skipping.')\n",
    "if not all_dfs:\n",
    "    print(\"\\nERROR: No Parquet files were loaded.Please double-check your DATASET_DIR path and the 'parquet_files' list.\")\n",
    "    print(\"  Ensure the file names in 'parquet_files' exactly match the names in your folder.\")\n",
    "    print(\"  Also,verify the full path to the folder containing the Parquet files.\")\n",
    "    df=pd.DataFrame()\n",
    "else:\n",
    "    df=pd.concat(all_dfs,ignore_index=True)\n",
    "    print(f'\\n---Data Loading Complete---')\n",
    "    print(f'All datasets combined.Total rows:{len(df)},Total columns:{len(df.columns)}')\n",
    "        \n",
    "        "
   ]
  },
  {
   "cell_type": "code",
   "execution_count": 9,
   "id": "f8c551ee-a945-4d5f-83ac-993e841b82ce",
   "metadata": {},
   "outputs": [
    {
     "name": "stdout",
     "output_type": "stream",
     "text": [
      "---Starting Data Exploration---\n",
      "\n",
      " First 5 rows of the DataFrame (df.head()):\n",
      "   Protocol  Flow Duration  Total Fwd Packets  Total Backward Packets  \\\n",
      "0         6            166                  1                       1   \n",
      "1         6             83                  1                       2   \n",
      "2        17          99947                  1                       1   \n",
      "3        17          37017                  1                       1   \n",
      "4         0      111161336                147                       0   \n",
      "\n",
      "   Fwd Packets Length Total  Bwd Packets Length Total  Fwd Packet Length Max  \\\n",
      "0                         0                         0                      0   \n",
      "1                         0                         0                      0   \n",
      "2                        48                        48                     48   \n",
      "3                        48                        48                     48   \n",
      "4                         0                         0                      0   \n",
      "\n",
      "   Fwd Packet Length Min  Fwd Packet Length Mean  Fwd Packet Length Std  ...  \\\n",
      "0                      0                     0.0                    0.0  ...   \n",
      "1                      0                     0.0                    0.0  ...   \n",
      "2                     48                    48.0                    0.0  ...   \n",
      "3                     48                    48.0                    0.0  ...   \n",
      "4                      0                     0.0                    0.0  ...   \n",
      "\n",
      "   Fwd Seg Size Min  Active Mean  Active Std  Active Max  Active Min  \\\n",
      "0                32        0.000         0.0           0           0   \n",
      "1                32        0.000         0.0           0           0   \n",
      "2                40        0.000         0.0           0           0   \n",
      "3                32        0.000         0.0           0           0   \n",
      "4                 0  1753752.625   2123197.5     4822992          95   \n",
      "\n",
      "   Idle Mean   Idle Std  Idle Max  Idle Min   Label  \n",
      "0        0.0        0.0         0         0  Benign  \n",
      "1        0.0        0.0         0         0  Benign  \n",
      "2        0.0        0.0         0         0  Benign  \n",
      "3        0.0        0.0         0         0  Benign  \n",
      "4  9463033.0  2657728.0  13600000   5700287  Benign  \n",
      "\n",
      "[5 rows x 78 columns]\n",
      "--------------------------------------------------\n"
     ]
    }
   ],
   "source": [
    "print(\"---Starting Data Exploration---\")\n",
    "print('\\n First 5 rows of the DataFrame (df.head()):')\n",
    "print(df.head())\n",
    "print(\"-\"*50)"
   ]
  },
  {
   "cell_type": "code",
   "execution_count": 10,
   "id": "02693805-d07b-4143-902f-16b7a1f90f31",
   "metadata": {},
   "outputs": [
    {
     "name": "stdout",
     "output_type": "stream",
     "text": [
      "\n",
      "2. DataFrame Shape (rows,coloumns-df.shape):\n",
      "(2596603, 78)\n",
      "--------------------------------------------------\n"
     ]
    }
   ],
   "source": [
    "print('\\n2. DataFrame Shape (rows,coloumns-df.shape):')\n",
    "print(df.shape)\n",
    "print(\"-\"*50)"
   ]
  },
  {
   "cell_type": "code",
   "execution_count": 11,
   "id": "53ae7740-0c66-4100-b7e3-4b3c22caeba9",
   "metadata": {},
   "outputs": [
    {
     "name": "stdout",
     "output_type": "stream",
     "text": [
      "\n",
      "3. DataFrame info (columns,non-null counts,data types-df.info():\n",
      "<class 'pandas.core.frame.DataFrame'>\n",
      "RangeIndex: 2596603 entries, 0 to 2596602\n",
      "Data columns (total 78 columns):\n",
      " #   Column                    Dtype  \n",
      "---  ------                    -----  \n",
      " 0   Protocol                  int8   \n",
      " 1   Flow Duration             int32  \n",
      " 2   Total Fwd Packets         int32  \n",
      " 3   Total Backward Packets    int32  \n",
      " 4   Fwd Packets Length Total  int32  \n",
      " 5   Bwd Packets Length Total  int32  \n",
      " 6   Fwd Packet Length Max     int16  \n",
      " 7   Fwd Packet Length Min     int16  \n",
      " 8   Fwd Packet Length Mean    float32\n",
      " 9   Fwd Packet Length Std     float32\n",
      " 10  Bwd Packet Length Max     int16  \n",
      " 11  Bwd Packet Length Min     int16  \n",
      " 12  Bwd Packet Length Mean    float32\n",
      " 13  Bwd Packet Length Std     float32\n",
      " 14  Flow Bytes/s              float64\n",
      " 15  Flow Packets/s            float64\n",
      " 16  Flow IAT Mean             float32\n",
      " 17  Flow IAT Std              float32\n",
      " 18  Flow IAT Max              int32  \n",
      " 19  Flow IAT Min              int32  \n",
      " 20  Fwd IAT Total             int32  \n",
      " 21  Fwd IAT Mean              float32\n",
      " 22  Fwd IAT Std               float32\n",
      " 23  Fwd IAT Max               int32  \n",
      " 24  Fwd IAT Min               int32  \n",
      " 25  Bwd IAT Total             int32  \n",
      " 26  Bwd IAT Mean              float32\n",
      " 27  Bwd IAT Std               float32\n",
      " 28  Bwd IAT Max               int32  \n",
      " 29  Bwd IAT Min               int32  \n",
      " 30  Fwd PSH Flags             int8   \n",
      " 31  Bwd PSH Flags             int8   \n",
      " 32  Fwd URG Flags             int8   \n",
      " 33  Bwd URG Flags             int8   \n",
      " 34  Fwd Header Length         int64  \n",
      " 35  Bwd Header Length         int32  \n",
      " 36  Fwd Packets/s             float32\n",
      " 37  Bwd Packets/s             float32\n",
      " 38  Packet Length Min         int16  \n",
      " 39  Packet Length Max         int16  \n",
      " 40  Packet Length Mean        float32\n",
      " 41  Packet Length Std         float32\n",
      " 42  Packet Length Variance    float32\n",
      " 43  FIN Flag Count            int8   \n",
      " 44  SYN Flag Count            int8   \n",
      " 45  RST Flag Count            int8   \n",
      " 46  PSH Flag Count            int8   \n",
      " 47  ACK Flag Count            int8   \n",
      " 48  URG Flag Count            int8   \n",
      " 49  CWE Flag Count            int8   \n",
      " 50  ECE Flag Count            int8   \n",
      " 51  Down/Up Ratio             int16  \n",
      " 52  Avg Packet Size           float32\n",
      " 53  Avg Fwd Segment Size      float32\n",
      " 54  Avg Bwd Segment Size      float32\n",
      " 55  Fwd Avg Bytes/Bulk        int8   \n",
      " 56  Fwd Avg Packets/Bulk      int8   \n",
      " 57  Fwd Avg Bulk Rate         int8   \n",
      " 58  Bwd Avg Bytes/Bulk        int8   \n",
      " 59  Bwd Avg Packets/Bulk      int8   \n",
      " 60  Bwd Avg Bulk Rate         int8   \n",
      " 61  Subflow Fwd Packets       int32  \n",
      " 62  Subflow Fwd Bytes         int32  \n",
      " 63  Subflow Bwd Packets       int32  \n",
      " 64  Subflow Bwd Bytes         int32  \n",
      " 65  Init Fwd Win Bytes        int32  \n",
      " 66  Init Bwd Win Bytes        int32  \n",
      " 67  Fwd Act Data Packets      int32  \n",
      " 68  Fwd Seg Size Min          int32  \n",
      " 69  Active Mean               float32\n",
      " 70  Active Std                float32\n",
      " 71  Active Max                int32  \n",
      " 72  Active Min                int32  \n",
      " 73  Idle Mean                 float32\n",
      " 74  Idle Std                  float32\n",
      " 75  Idle Max                  int32  \n",
      " 76  Idle Min                  int32  \n",
      " 77  Label                     object \n",
      "dtypes: float32(22), float64(2), int16(7), int32(26), int64(1), int8(19), object(1)\n",
      "memory usage: 636.4+ MB\n",
      "--------------------------------------------------\n"
     ]
    }
   ],
   "source": [
    "print(\"\\n3. DataFrame info (columns,non-null counts,data types-df.info():\")\n",
    "df.info()\n",
    "print(\"-\"*50)"
   ]
  },
  {
   "cell_type": "code",
   "execution_count": 12,
   "id": "2b9a3bab-187b-4fea-8abe-5ad8b2b3027d",
   "metadata": {},
   "outputs": [
    {
     "name": "stdout",
     "output_type": "stream",
     "text": [
      "\n",
      "4. Missing values per column (df.isnull().sum()):\n",
      "Protocol                    0\n",
      "Flow Duration               0\n",
      "Total Fwd Packets           0\n",
      "Total Backward Packets      0\n",
      "Fwd Packets Length Total    0\n",
      "                           ..\n",
      "Idle Mean                   0\n",
      "Idle Std                    0\n",
      "Idle Max                    0\n",
      "Idle Min                    0\n",
      "Label                       0\n",
      "Length: 78, dtype: int64\n",
      "--------------------------------------------------\n"
     ]
    }
   ],
   "source": [
    "pd.reset_option('display.max_columns')\n",
    "pd.reset_option('display.max_rows')\n",
    "print('\\n4. Missing values per column (df.isnull().sum()):')\n",
    "print(df.isnull().sum())\n",
    "print(\"-\"*50)"
   ]
  },
  {
   "cell_type": "code",
   "execution_count": 13,
   "id": "0f8abf28-6df9-453f-b796-206de381c14e",
   "metadata": {},
   "outputs": [
    {
     "name": "stdout",
     "output_type": "stream",
     "text": [
      "\n",
      "5. All Coloumn Names (df.columns.tolist()):\n",
      "['Protocol', 'Flow Duration', 'Total Fwd Packets', 'Total Backward Packets', 'Fwd Packets Length Total', 'Bwd Packets Length Total', 'Fwd Packet Length Max', 'Fwd Packet Length Min', 'Fwd Packet Length Mean', 'Fwd Packet Length Std', 'Bwd Packet Length Max', 'Bwd Packet Length Min', 'Bwd Packet Length Mean', 'Bwd Packet Length Std', 'Flow Bytes/s', 'Flow Packets/s', 'Flow IAT Mean', 'Flow IAT Std', 'Flow IAT Max', 'Flow IAT Min', 'Fwd IAT Total', 'Fwd IAT Mean', 'Fwd IAT Std', 'Fwd IAT Max', 'Fwd IAT Min', 'Bwd IAT Total', 'Bwd IAT Mean', 'Bwd IAT Std', 'Bwd IAT Max', 'Bwd IAT Min', 'Fwd PSH Flags', 'Bwd PSH Flags', 'Fwd URG Flags', 'Bwd URG Flags', 'Fwd Header Length', 'Bwd Header Length', 'Fwd Packets/s', 'Bwd Packets/s', 'Packet Length Min', 'Packet Length Max', 'Packet Length Mean', 'Packet Length Std', 'Packet Length Variance', 'FIN Flag Count', 'SYN Flag Count', 'RST Flag Count', 'PSH Flag Count', 'ACK Flag Count', 'URG Flag Count', 'CWE Flag Count', 'ECE Flag Count', 'Down/Up Ratio', 'Avg Packet Size', 'Avg Fwd Segment Size', 'Avg Bwd Segment Size', 'Fwd Avg Bytes/Bulk', 'Fwd Avg Packets/Bulk', 'Fwd Avg Bulk Rate', 'Bwd Avg Bytes/Bulk', 'Bwd Avg Packets/Bulk', 'Bwd Avg Bulk Rate', 'Subflow Fwd Packets', 'Subflow Fwd Bytes', 'Subflow Bwd Packets', 'Subflow Bwd Bytes', 'Init Fwd Win Bytes', 'Init Bwd Win Bytes', 'Fwd Act Data Packets', 'Fwd Seg Size Min', 'Active Mean', 'Active Std', 'Active Max', 'Active Min', 'Idle Mean', 'Idle Std', 'Idle Max', 'Idle Min', 'Label']\n",
      "--------------------------------------------------\n"
     ]
    }
   ],
   "source": [
    "print('\\n5. All Coloumn Names (df.columns.tolist()):')\n",
    "print(df.columns.tolist())\n",
    "print(\"-\"*50)"
   ]
  },
  {
   "cell_type": "code",
   "execution_count": 14,
   "id": "2acdd20a-35c5-40a6-82f7-47b1ed850103",
   "metadata": {},
   "outputs": [
    {
     "name": "stdout",
     "output_type": "stream",
     "text": [
      "\n",
      "6. Distribution of 'Label' column (df['Label'l.value_counts()):\n",
      "Label\n",
      "Benign                        2261548\n",
      "DoS Hulk                       172846\n",
      "DDoS                           128014\n",
      "DoS GoldenEye                   10286\n",
      "FTP-Patator                      5931\n",
      "DoS slowloris                    5385\n",
      "DoS Slowhttptest                 5228\n",
      "SSH-Patator                      3219\n",
      "PortScan                         1956\n",
      "Web Attack � Brute Force         1470\n",
      "Web Attack � XSS                  652\n",
      "Infiltration                       36\n",
      "Web Attack � Sql Injection         21\n",
      "Heartbleed                         11\n",
      "Name: count, dtype: int64\n",
      "\n",
      "Percentage distribution of 'Label' column:\n",
      "Label\n",
      "Benign                        87.096410\n",
      "DoS Hulk                       6.656620\n",
      "DDoS                           4.930057\n",
      "DoS GoldenEye                  0.396133\n",
      "FTP-Patator                    0.228414\n",
      "DoS slowloris                  0.207386\n",
      "DoS Slowhttptest               0.201340\n",
      "SSH-Patator                    0.123970\n",
      "PortScan                       0.075329\n",
      "Web Attack � Brute Force       0.056612\n",
      "Web Attack � XSS               0.025110\n",
      "Infiltration                   0.001386\n",
      "Web Attack � Sql Injection     0.000809\n",
      "Heartbleed                     0.000424\n",
      "Name: proportion, dtype: float64\n"
     ]
    }
   ],
   "source": [
    "if 'Label' in df.columns:\n",
    "    print(\"\\n6. Distribution of 'Label' column (df['Label'l.value_counts()):\")\n",
    "    print(df['Label'].value_counts())\n",
    "    print(\"\\nPercentage distribution of 'Label' column:\")\n",
    "    print(df['Label'].value_counts(normalize=True)*100)\n",
    "else:\n",
    "    print(\"\\n6. 'Label' column not found.Please verify the exact coloumn name for your traffic labels.\")\n",
    "    \n",
    "    "
   ]
  },
  {
   "cell_type": "code",
   "execution_count": 15,
   "id": "8c03de27-2188-4f8d-b03b-190e0639ee95",
   "metadata": {},
   "outputs": [
    {
     "name": "stdout",
     "output_type": "stream",
     "text": [
      "---Starting Data Cleaning: Fixing Coloumn Names---\n",
      "Cleaned Column Names:\n",
      "['protocol', 'flow_duration', 'total_fwd_packets', 'total_backward_packets', 'fwd_packets_length_total', 'bwd_packets_length_total', 'fwd_packet_length_max', 'fwd_packet_length_min', 'fwd_packet_length_mean', 'fwd_packet_length_std', 'bwd_packet_length_max', 'bwd_packet_length_min', 'bwd_packet_length_mean', 'bwd_packet_length_std', 'flow_bytess', 'flow_packetss', 'flow_iat_mean', 'flow_iat_std', 'flow_iat_max', 'flow_iat_min', 'fwd_iat_total', 'fwd_iat_mean', 'fwd_iat_std', 'fwd_iat_max', 'fwd_iat_min', 'bwd_iat_total', 'bwd_iat_mean', 'bwd_iat_std', 'bwd_iat_max', 'bwd_iat_min', 'fwd_psh_flags', 'bwd_psh_flags', 'fwd_urg_flags', 'bwd_urg_flags', 'fwd_header_length', 'bwd_header_length', 'fwd_packetss', 'bwd_packetss', 'packet_length_min', 'packet_length_max', 'packet_length_mean', 'packet_length_std', 'packet_length_variance', 'fin_flag_count', 'syn_flag_count', 'rst_flag_count', 'psh_flag_count', 'ack_flag_count', 'urg_flag_count', 'cwe_flag_count', 'ece_flag_count', 'downup_ratio', 'avg_packet_size', 'avg_fwd_segment_size', 'avg_bwd_segment_size', 'fwd_avg_bytesbulk', 'fwd_avg_packetsbulk', 'fwd_avg_bulk_rate', 'bwd_avg_bytesbulk', 'bwd_avg_packetsbulk', 'bwd_avg_bulk_rate', 'subflow_fwd_packets', 'subflow_fwd_bytes', 'subflow_bwd_packets', 'subflow_bwd_bytes', 'init_fwd_win_bytes', 'init_bwd_win_bytes', 'fwd_act_data_packets', 'fwd_seg_size_min', 'active_mean', 'active_std', 'active_max', 'active_min', 'idle_mean', 'idle_std', 'idle_max', 'idle_min', 'label']\n",
      "--------------------------------------------------\n"
     ]
    }
   ],
   "source": [
    "print(\"---Starting Data Cleaning: Fixing Coloumn Names---\")\n",
    "df.columns=df.columns.str.strip().str.lower().str.replace(' ','_').str.replace('[^a-z0-9_]','',regex=True)\n",
    "print(\"Cleaned Column Names:\")\n",
    "print(df.columns.tolist())\n",
    "print(\"-\"*50)"
   ]
  },
  {
   "cell_type": "code",
   "execution_count": 16,
   "id": "2b06c690-d4a5-4b89-b724-ca4a6e7ee354",
   "metadata": {},
   "outputs": [
    {
     "name": "stdout",
     "output_type": "stream",
     "text": [
      "---Starting Data Cleaning: Handling Infinite Values---\n",
      "No infinite values found and no NaNs introduces.\n",
      "--------------------------------------------------\n"
     ]
    }
   ],
   "source": [
    "print(\"---Starting Data Cleaning: Handling Infinite Values---\")\n",
    "df.replace([np.inf,-np.inf],np.nan,inplace=True)\n",
    "nan_after_inf_check=df.isnull().sum()\n",
    "if nan_after_inf_check.sum()>0:\n",
    "    print(\"NaN values introduced after replacing infinities:\")\n",
    "    print(nan-after_inf_check[nan_after_inf_check>0])\n",
    "    print(\"\\nDeciding how to handle these NaNs:\")\n",
    "    df.fillna(0,inplace=True)\n",
    "    print(\"Filled all introduced NaNs with 0.\")\n",
    "else:\n",
    "    print(\"No infinite values found and no NaNs introduces.\")\n",
    "print(\"-\"*50)    \n",
    "    "
   ]
  },
  {
   "cell_type": "code",
   "execution_count": 17,
   "id": "c8908849-02e2-4678-8876-89a6fb67b3a9",
   "metadata": {},
   "outputs": [
    {
     "name": "stdout",
     "output_type": "stream",
     "text": [
      "---Starting Data Cleaning: Cleaning 'Label' Columns---\n",
      "Cleaned 'label' column distribution:\n",
      "label\n",
      "NORMAL                        2261548\n",
      "DOS HULK                       172846\n",
      "DDOS                           128014\n",
      "DOS GOLDENEYE                   10286\n",
      "FTP-PATATOR                      5931\n",
      "DOS SLOWLORIS                    5385\n",
      "DOS SLOWHTTPTEST                 5228\n",
      "SSH-PATATOR                      3219\n",
      "PORTSCAN                         1956\n",
      "WEB ATTACK � BRUTE FORCE         1470\n",
      "WEB ATTACK � XSS                  652\n",
      "INFILTRATION                       36\n",
      "WEB ATTACK � SQL INJECTION         21\n",
      "HEARTBLEED                         11\n",
      "Name: count, dtype: int64\n",
      "--------------------------------------------------\n"
     ]
    }
   ],
   "source": [
    "print(\"---Starting Data Cleaning: Cleaning 'Label' Columns---\")\n",
    "if 'label' in df.columns:\n",
    "    df['label']=df['label'].astype(str).str.strip().str.upper()\n",
    "    df['label']=df['label'].replace('BENIGN','NORMAL')\n",
    "    print(\"Cleaned 'label' column distribution:\")\n",
    "    print(df['label'].value_counts())\n",
    "else:\n",
    "    print(\"No 'Label' column to clean.Please ensure your target column is correctly named.\")\n",
    "print(\"-\"*50)    \n",
    "    "
   ]
  },
  {
   "cell_type": "code",
   "execution_count": 18,
   "id": "ee14b197-e136-4f7b-be73-0683dd7eabf0",
   "metadata": {},
   "outputs": [
    {
     "name": "stdout",
     "output_type": "stream",
     "text": [
      "---Preprocesing: Encoding Target 'Label' Column---\n",
      "Original Lable Value Counts:\n",
      "label\n",
      "NORMAL                        2261548\n",
      "DOS HULK                       172846\n",
      "DDOS                           128014\n",
      "DOS GOLDENEYE                   10286\n",
      "FTP-PATATOR                      5931\n",
      "DOS SLOWLORIS                    5385\n",
      "DOS SLOWHTTPTEST                 5228\n",
      "SSH-PATATOR                      3219\n",
      "PORTSCAN                         1956\n",
      "WEB ATTACK � BRUTE FORCE         1470\n",
      "WEB ATTACK � XSS                  652\n",
      "INFILTRATION                       36\n",
      "WEB ATTACK � SQL INJECTION         21\n",
      "HEARTBLEED                         11\n",
      "Name: count, dtype: int64\n",
      "\n",
      "Encoded Label Value Counts:\n",
      "label_encoded\n",
      "8     2261548\n",
      "2      172846\n",
      "0      128014\n",
      "1       10286\n",
      "5        5931\n",
      "4        5385\n",
      "3        5228\n",
      "10       3219\n",
      "9        1956\n",
      "11       1470\n",
      "13        652\n",
      "7          36\n",
      "12         21\n",
      "6          11\n",
      "Name: count, dtype: int64\n",
      "\n",
      "Mapping of original labels to encoded numbers:\n",
      "DDOS->0\n",
      "DOS GOLDENEYE->1\n",
      "DOS HULK->2\n",
      "DOS SLOWHTTPTEST->3\n",
      "DOS SLOWLORIS->4\n",
      "FTP-PATATOR->5\n",
      "HEARTBLEED->6\n",
      "INFILTRATION->7\n",
      "NORMAL->8\n",
      "PORTSCAN->9\n",
      "SSH-PATATOR->10\n",
      "WEB ATTACK � BRUTE FORCE->11\n",
      "WEB ATTACK � SQL INJECTION->12\n",
      "WEB ATTACK � XSS->13\n",
      "--------------------------------------------------\n"
     ]
    }
   ],
   "source": [
    "print(\"---Preprocesing: Encoding Target 'Label' Column---\")\n",
    "if 'label' in df.columns and df['label'].dtype=='object':\n",
    "    le=LabelEncoder()\n",
    "    df['label_encoded']=le.fit_transform(df['label'])\n",
    "    print(f\"Original Lable Value Counts:\\n{df['label'].value_counts()}\")\n",
    "    print(f\"\\nEncoded Label Value Counts:\\n{df['label_encoded'].value_counts()}\")\n",
    "    print(\"\\nMapping of original labels to encoded numbers:\")\n",
    "    for i,label in enumerate(le.classes_):\n",
    "        print(f\"{label}->{i}\")\n",
    "elif \"label\" in df.columns and df['label'].dtype!='object':\n",
    "    print(\"'Label' column is already numerical.Skipping Label Encoding.\")\n",
    "    df['label_encoded']=df['label']\n",
    "else:\n",
    "     print(\"Warning: 'Label' column not found for encoding. Please verify the name of your target column.\")\n",
    "print(\"-\"*50)    "
   ]
  },
  {
   "cell_type": "code",
   "execution_count": 19,
   "id": "76b2d04b-9792-4509-9ad9-f3ca1c7b56e8",
   "metadata": {},
   "outputs": [
    {
     "name": "stdout",
     "output_type": "stream",
     "text": [
      "\n",
      "--- Skipping One-Hot Encoding for Feature Columns ---\n",
      "All feature columns are already numerical (not 'object' dtype), so no One-Hot Encoding is needed.\n",
      "--------------------------------------------------\n"
     ]
    }
   ],
   "source": [
    "print(\"\\n--- Skipping One-Hot Encoding for Feature Columns ---\")\n",
    "print(\"All feature columns are already numerical (not 'object' dtype), so no One-Hot Encoding is needed.\")\n",
    "print(\"-\" * 50)"
   ]
  },
  {
   "cell_type": "code",
   "execution_count": 20,
   "id": "6739d7a7-99da-4c98-a39c-aa643ca91003",
   "metadata": {},
   "outputs": [
    {
     "name": "stdout",
     "output_type": "stream",
     "text": [
      "\n",
      "---Starting Preprocessing: Scaling Numerical Features---\n",
      "\n",
      "Scaling the following numerical features: ['flow_duration', 'total_fwd_packets', 'total_backward_packets', 'fwd_packets_length_total', 'bwd_packets_length_total']... (showing first 5 of 57 columns)\n",
      "\n",
      "First 5 rows of DataFrame after scaling (check numerical features):\n",
      "   protocol  flow_duration  total_fwd_packets  total_backward_packets  \\\n",
      "0         6      -0.485030          -0.011998               -0.010310   \n",
      "1         6      -0.485033          -0.011998               -0.009399   \n",
      "2        17      -0.482243          -0.011998               -0.010310   \n",
      "3        17      -0.484001          -0.011998               -0.010310   \n",
      "4         0       2.619704           0.164207               -0.011221   \n",
      "\n",
      "   fwd_packets_length_total  bwd_packets_length_total  fwd_packet_length_max  \\\n",
      "0                 -0.062106                 -0.007681              -0.330554   \n",
      "1                 -0.062106                 -0.007681              -0.330554   \n",
      "2                 -0.057573                 -0.007662              -0.266827   \n",
      "3                 -0.057573                 -0.007662              -0.266827   \n",
      "4                 -0.062106                 -0.007681              -0.330554   \n",
      "\n",
      "   fwd_packet_length_min  fwd_packet_length_mean  fwd_packet_length_std  \\\n",
      "0              -0.348984               -0.350344              -0.277703   \n",
      "1              -0.348984               -0.350344              -0.277703   \n",
      "2               0.439501               -0.101253              -0.277703   \n",
      "3               0.439501               -0.101253              -0.277703   \n",
      "4              -0.348984               -0.350344              -0.277703   \n",
      "\n",
      "   bwd_packet_length_max  bwd_packet_length_min  bwd_packet_length_mean  \\\n",
      "0              -0.496904              -0.658965                -0.56431   \n",
      "1              -0.496904              -0.658965                -0.56431   \n",
      "2              -0.473071              -0.003431                -0.48749   \n",
      "3              -0.473071              -0.003431                -0.48749   \n",
      "4              -0.496904              -0.658965                -0.56431   \n",
      "\n",
      "   bwd_packet_length_std  flow_bytess  flow_packetss  flow_iat_mean  \\\n",
      "0              -0.440846    -0.062252      -0.067171      -0.310295   \n",
      "1              -0.440846    -0.062252       0.128114      -0.310320   \n",
      "2              -0.440846    -0.062128      -0.164651      -0.290275   \n",
      "3              -0.440846    -0.061919      -0.164375      -0.302901   \n",
      "4              -0.440846    -0.062252      -0.164802      -0.157561   \n",
      "\n",
      "   flow_iat_std  flow_iat_max  flow_iat_min  fwd_iat_total  fwd_iat_mean  \\\n",
      "0     -0.394022     -0.410624     -0.063314      -0.475647     -0.296083   \n",
      "1     -0.394020     -0.410629     -0.063353      -0.475647     -0.296083   \n",
      "2     -0.394022     -0.406736     -0.033508      -0.475647     -0.296083   \n",
      "3     -0.394022     -0.409189     -0.052306      -0.475647     -0.296083   \n",
      "4     -0.097267      0.119318     -0.063363       2.630467     -0.223463   \n",
      "\n",
      "   fwd_iat_std  fwd_iat_max  fwd_iat_min  bwd_iat_total  bwd_iat_mean  \\\n",
      "0    -0.366639    -0.402662    -0.134658      -0.382208     -0.222687   \n",
      "1    -0.366639    -0.402662    -0.134658      -0.382207     -0.222682   \n",
      "2    -0.366639    -0.402662    -0.134658      -0.382208     -0.222687   \n",
      "3    -0.366639    -0.402662    -0.134658      -0.382208     -0.222687   \n",
      "4    -0.114271     0.125612    -0.134658      -0.382208     -0.222687   \n",
      "\n",
      "   bwd_iat_std  bwd_iat_max  bwd_iat_min  fwd_psh_flags  bwd_psh_flags  \\\n",
      "0    -0.259216    -0.301215    -0.129983              0              0   \n",
      "1    -0.259216    -0.301212    -0.129978              0              0   \n",
      "2    -0.259216    -0.301215    -0.129983              0              0   \n",
      "3    -0.259216    -0.301215    -0.129983              0              0   \n",
      "4    -0.259216    -0.301215    -0.129983              0              0   \n",
      "\n",
      "   fwd_urg_flags  bwd_urg_flags  fwd_header_length  bwd_header_length  \\\n",
      "0              0              0           0.001411           0.002053   \n",
      "1              0              0           0.001411           0.002073   \n",
      "2              0              0           0.001411           0.002058   \n",
      "3              0              0           0.001411           0.002053   \n",
      "4              0              0           0.001410           0.002032   \n",
      "\n",
      "   fwd_packetss  bwd_packetss  packet_length_min  packet_length_max  \\\n",
      "0     -0.088000      0.049962          -0.722991          -0.520455   \n",
      "1     -0.034397      0.639370          -0.722991          -0.520455   \n",
      "2     -0.141514     -0.146180           1.115831          -0.497539   \n",
      "3     -0.141363     -0.145626           1.115831          -0.497539   \n",
      "4     -0.141591     -0.146507          -0.722991          -0.520455   \n",
      "\n",
      "   packet_length_mean  packet_length_std  packet_length_variance  \\\n",
      "0           -0.628789          -0.517864               -0.314832   \n",
      "1           -0.628789          -0.517864               -0.314832   \n",
      "2           -0.475959          -0.517864               -0.314832   \n",
      "3           -0.475959          -0.517864               -0.314832   \n",
      "4           -0.628789          -0.517864               -0.314832   \n",
      "\n",
      "   fin_flag_count  syn_flag_count  rst_flag_count  psh_flag_count  \\\n",
      "0               0               0               0               0   \n",
      "1               0               0               0               0   \n",
      "2               0               0               0               0   \n",
      "3               0               0               0               0   \n",
      "4               0               0               0               0   \n",
      "\n",
      "   ack_flag_count  urg_flag_count  cwe_flag_count  ece_flag_count  \\\n",
      "0               1               1               0               0   \n",
      "1               1               1               0               0   \n",
      "2               0               0               0               0   \n",
      "3               0               0               0               0   \n",
      "4               0               0               0               0   \n",
      "\n",
      "   downup_ratio  avg_packet_size  avg_fwd_segment_size  avg_bwd_segment_size  \\\n",
      "0             1        -0.647910             -0.350344              -0.56431   \n",
      "1             2        -0.647910             -0.350344              -0.56431   \n",
      "2             1        -0.435653             -0.101253              -0.48749   \n",
      "3             1        -0.435653             -0.101253              -0.48749   \n",
      "4             0        -0.647910             -0.350344              -0.56431   \n",
      "\n",
      "   fwd_avg_bytesbulk  fwd_avg_packetsbulk  fwd_avg_bulk_rate  \\\n",
      "0                  0                    0                  0   \n",
      "1                  0                    0                  0   \n",
      "2                  0                    0                  0   \n",
      "3                  0                    0                  0   \n",
      "4                  0                    0                  0   \n",
      "\n",
      "   bwd_avg_bytesbulk  bwd_avg_packetsbulk  bwd_avg_bulk_rate  \\\n",
      "0                  0                    0                  0   \n",
      "1                  0                    0                  0   \n",
      "2                  0                    0                  0   \n",
      "3                  0                    0                  0   \n",
      "4                  0                    0                  0   \n",
      "\n",
      "   subflow_fwd_packets  subflow_fwd_bytes  subflow_bwd_packets  \\\n",
      "0            -0.011998          -0.062187            -0.010310   \n",
      "1            -0.011998          -0.062187            -0.009399   \n",
      "2            -0.011998          -0.057647            -0.010310   \n",
      "3            -0.011998          -0.057647            -0.010310   \n",
      "4             0.164207          -0.062187            -0.011221   \n",
      "\n",
      "   subflow_bwd_bytes  init_fwd_win_bytes  init_bwd_win_bytes  \\\n",
      "0          -0.007681           -0.478651           -0.223881   \n",
      "1          -0.007681           -0.481639           -0.218626   \n",
      "2          -0.007662           -0.497147           -0.251162   \n",
      "3          -0.007662           -0.497147           -0.251162   \n",
      "4          -0.007681           -0.497147           -0.251162   \n",
      "\n",
      "   fwd_act_data_packets  fwd_seg_size_min  active_mean  active_std  \\\n",
      "0             -0.009204          0.003247    -0.140546   -0.116329   \n",
      "1             -0.009204          0.003247    -0.140546   -0.116329   \n",
      "2             -0.009204          0.003254    -0.140546   -0.116329   \n",
      "3             -0.009204          0.003247    -0.140546   -0.116329   \n",
      "4             -0.009204          0.003219     2.412448    4.852934   \n",
      "\n",
      "   active_max  active_min  idle_mean  idle_std  idle_max  idle_min   label  \\\n",
      "0   -0.165416   -0.112365  -0.382225 -0.118763 -0.387751 -0.367751  NORMAL   \n",
      "1   -0.165416   -0.112365  -0.382225 -0.118763 -0.387751 -0.367751  NORMAL   \n",
      "2   -0.165416   -0.112365  -0.382225 -0.118763 -0.387751 -0.367751  NORMAL   \n",
      "3   -0.165416   -0.112365  -0.382225 -0.118763 -0.387751 -0.367751  NORMAL   \n",
      "4    4.190187   -0.112209  -0.000818  0.427598  0.143864 -0.135487  NORMAL   \n",
      "\n",
      "   label_encoded  \n",
      "0              8  \n",
      "1              8  \n",
      "2              8  \n",
      "3              8  \n",
      "4              8  \n",
      "\n",
      "DataFrame shape after scaling: (2596603, 79)\n"
     ]
    }
   ],
   "source": [
    "print(\"\\n---Starting Preprocessing: Scaling Numerical Features---\")\n",
    "numerical_features=df.select_dtypes(include=['int8','int16','int32','int64','float32','float64'])\n",
    "columns_to_exclude_from_scaling=['label',\n",
    "    'label_encoded',\n",
    "    'protocol',\n",
    "    'fwd_psh_flags',\n",
    "    'bwd_psh_flags',\n",
    "    'fwd_urg_flags',\n",
    "    'bwd_urg_flags',\n",
    "    'fin_flag_count',\n",
    "    'syn_flag_count',\n",
    "    'rst_flag_count',\n",
    "    'psh_flag_count',\n",
    "    'ack_flag_count',\n",
    "    'urg_flag_count',\n",
    "    'cwe_flag_count',\n",
    "    'ece_flag_count',\n",
    "    'downup_ratio',\n",
    "    'fwd_avg_bytesbulk',\n",
    "    'fwd_avg_packetsbulk',\n",
    "    'fwd_avg_bulk_rate',\n",
    "    'bwd_avg_bytesbulk',\n",
    "    'bwd_avg_packetsbulk',\n",
    "    'bwd_avg_bulk_rate']\n",
    "numerical_features_to_scale=[col for col in numerical_features if col not in columns_to_exclude_from_scaling]\n",
    "if not numerical_features_to_scale:\n",
    "    print(\"No numerical features found for scaling (after excluding labels/IDs).\")\n",
    "else:\n",
    "    print(f\"\\nScaling the following numerical features: {numerical_features_to_scale[:5]}... (showing first 5 of {len(numerical_features_to_scale)} columns)\")\n",
    "    scaler=StandardScaler()\n",
    "    df[numerical_features_to_scale]=scaler.fit_transform(df[numerical_features_to_scale])\n",
    "    print(\"\\nFirst 5 rows of DataFrame after scaling (check numerical features):\")\n",
    "    pd.set_option('display.max_columns', None)\n",
    "    print(df.head())\n",
    "    pd.reset_option('display.max_columns') \n",
    "    print(f\"\\nDataFrame shape after scaling: {df.shape}\")"
   ]
  },
  {
   "cell_type": "code",
   "execution_count": 25,
   "id": "8eab276f-eb3b-4282-aeca-a888199e2f83",
   "metadata": {},
   "outputs": [
    {
     "name": "stdout",
     "output_type": "stream",
     "text": [
      "\n",
      "---Saving Final Cleaned and Scaled Dataset to Parquet file---\n",
      "Cleaned and scaled dataset successfully saved to: processed_data\\final_netshield_cleaned_scaled_dataset.parquet\n",
      "Shape of saved dataset: (2596603, 79)\n"
     ]
    }
   ],
   "source": [
    "print(\"\\n---Saving Final Cleaned and Scaled Dataset to Parquet file---\")\n",
    "output_parquet_filepath = os.path.join(OUTPUT_DIR, 'final_netshield_cleaned_scaled_dataset.parquet')\n",
    "try:\n",
    "    # Save the DataFrame (df) to the specified Parquet file path\n",
    "    # index=False ensures pandas doesn't write the DataFrame's index as a column\n",
    "    df.to_parquet(output_parquet_filepath, index=False)\n",
    "    print(f\"Cleaned and scaled dataset successfully saved to: {output_parquet_filepath}\")\n",
    "    print(f\"Shape of saved dataset: {df.shape}\")\n",
    "except Exception as e:\n",
    "    print(f\"ERROR: Could not save cleaned and scaled dataset to Parquet: {e}\")"
   ]
  },
  {
   "cell_type": "code",
   "execution_count": 22,
   "id": "296d77f2-e021-498d-9e4c-600b169f9e3d",
   "metadata": {},
   "outputs": [
    {
     "name": "stdout",
     "output_type": "stream",
     "text": [
      "--- Starting Step 5: Dividing Data into Training and Test Sets ---\n",
      "\n",
      "Shape of Features (X):(2596603, 77)\n",
      "Shape of Target (y):(2596603,)\n",
      "\n",
      "First 5 columns of X (Features):\n",
      "   protocol  flow_duration  total_fwd_packets  total_backward_packets  \\\n",
      "0         6      -0.485030          -0.011998               -0.010310   \n",
      "1         6      -0.485033          -0.011998               -0.009399   \n",
      "2        17      -0.482243          -0.011998               -0.010310   \n",
      "3        17      -0.484001          -0.011998               -0.010310   \n",
      "4         0       2.619704           0.164207               -0.011221   \n",
      "\n",
      "   fwd_packets_length_total  \n",
      "0                 -0.062106  \n",
      "1                 -0.062106  \n",
      "2                 -0.057573  \n",
      "3                 -0.057573  \n",
      "4                 -0.062106  \n"
     ]
    }
   ],
   "source": [
    "print(\"--- Starting Step 5: Dividing Data into Training and Test Sets ---\")\n",
    "all_columns=df.columns.tolist()\n",
    "features_to_exclude=['label','label_encoded']\n",
    "X_columns=[col for col in all_columns if col not in features_to_exclude]\n",
    "X=df[X_columns]\n",
    "y=df['label_encoded']\n",
    "print(f\"\\nShape of Features (X):{X.shape}\")\n",
    "print(f\"Shape of Target (y):{y.shape}\")\n",
    "print(\"\\nFirst 5 columns of X (Features):\")\n",
    "print(X.iloc[:, :5].head())"
   ]
  },
  {
   "cell_type": "code",
   "execution_count": 23,
   "id": "186dfef3-4867-4219-a468-990f6cc7a096",
   "metadata": {},
   "outputs": [
    {
     "name": "stdout",
     "output_type": "stream",
     "text": [
      "\n",
      "Shape of X_train (Training Features): (2077282, 77)\n",
      "Shape of X_test (Test Features): (519321, 77)\n",
      "Shape of y_train (Training Target): (2077282,)\n",
      "Shape of y_test (Test Target): (519321,)\n",
      "\n",
      "Class distribution in original dataset:\n",
      "label_encoded\n",
      "8     0.870964\n",
      "2     0.066566\n",
      "0     0.049301\n",
      "1     0.003961\n",
      "5     0.002284\n",
      "4     0.002074\n",
      "3     0.002013\n",
      "10    0.001240\n",
      "9     0.000753\n",
      "11    0.000566\n",
      "13    0.000251\n",
      "7     0.000014\n",
      "12    0.000008\n",
      "6     0.000004\n",
      "Name: proportion, dtype: float64\n",
      "\n",
      "Class distribution in y_train:\n",
      "label_encoded\n",
      "8     0.870964\n",
      "2     0.066566\n",
      "0     0.049300\n",
      "1     0.003961\n",
      "5     0.002284\n",
      "4     0.002074\n",
      "3     0.002013\n",
      "10    0.001240\n",
      "9     0.000753\n",
      "11    0.000566\n",
      "13    0.000251\n",
      "7     0.000014\n",
      "12    0.000008\n",
      "6     0.000004\n",
      "Name: proportion, dtype: float64\n",
      "\n",
      "Class distribution in y_test:\n",
      "label_encoded\n",
      "8     0.870964\n",
      "2     0.066566\n",
      "0     0.049301\n",
      "1     0.003961\n",
      "5     0.002284\n",
      "4     0.002074\n",
      "3     0.002014\n",
      "10    0.001240\n",
      "9     0.000753\n",
      "11    0.000566\n",
      "13    0.000252\n",
      "7     0.000013\n",
      "12    0.000008\n",
      "6     0.000004\n",
      "Name: proportion, dtype: float64\n",
      "--------------------------------------------------\n",
      "Data successfully split into training and test sets!\n"
     ]
    }
   ],
   "source": [
    "X_train,X_test,y_train,y_test=train_test_split(X,y,test_size=0.20,random_state=42,stratify=y)\n",
    "print(f\"\\nShape of X_train (Training Features): {X_train.shape}\")\n",
    "print(f\"Shape of X_test (Test Features): {X_test.shape}\")\n",
    "print(f\"Shape of y_train (Training Target): {y_train.shape}\")\n",
    "print(f\"Shape of y_test (Test Target): {y_test.shape}\")\n",
    "print(\"\\nClass distribution in original dataset:\")\n",
    "print(y.value_counts(normalize=True))\n",
    "print(\"\\nClass distribution in y_train:\")\n",
    "print(y_train.value_counts(normalize=True))\n",
    "print(\"\\nClass distribution in y_test:\")\n",
    "print(y_test.value_counts(normalize=True))\n",
    "print(\"-\"*50)\n",
    "print(\"Data successfully split into training and test sets!\")\n",
    "\n",
    "\n"
   ]
  },
  {
   "cell_type": "code",
   "execution_count": null,
   "id": "62782185-beb6-4b35-82ba-252be6252920",
   "metadata": {},
   "outputs": [],
   "source": []
  }
 ],
 "metadata": {
  "kernelspec": {
   "display_name": "Python 3 (ipykernel)",
   "language": "python",
   "name": "python3"
  },
  "language_info": {
   "codemirror_mode": {
    "name": "ipython",
    "version": 3
   },
   "file_extension": ".py",
   "mimetype": "text/x-python",
   "name": "python",
   "nbconvert_exporter": "python",
   "pygments_lexer": "ipython3",
   "version": "3.13.3"
  }
 },
 "nbformat": 4,
 "nbformat_minor": 5
}
